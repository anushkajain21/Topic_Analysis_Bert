{
 "cells": [
  {
   "cell_type": "markdown",
   "id": "23e32099",
   "metadata": {},
   "source": [
    "### BERT"
   ]
  },
  {
   "cell_type": "markdown",
   "id": "27581b78",
   "metadata": {},
   "source": [
    "#### Importing Package and Reading the data"
   ]
  },
  {
   "cell_type": "code",
   "execution_count": 1,
   "id": "f2cc1057",
   "metadata": {},
   "outputs": [
    {
     "data": {
      "text/html": [
       "<div>\n",
       "<style scoped>\n",
       "    .dataframe tbody tr th:only-of-type {\n",
       "        vertical-align: middle;\n",
       "    }\n",
       "\n",
       "    .dataframe tbody tr th {\n",
       "        vertical-align: top;\n",
       "    }\n",
       "\n",
       "    .dataframe thead th {\n",
       "        text-align: right;\n",
       "    }\n",
       "</style>\n",
       "<table border=\"1\" class=\"dataframe\">\n",
       "  <thead>\n",
       "    <tr style=\"text-align: right;\">\n",
       "      <th></th>\n",
       "      <th>Comment</th>\n",
       "      <th>Topic</th>\n",
       "    </tr>\n",
       "  </thead>\n",
       "  <tbody>\n",
       "    <tr>\n",
       "      <th>0</th>\n",
       "      <td>Very hot and sexy nail color;)</td>\n",
       "      <td>21</td>\n",
       "    </tr>\n",
       "    <tr>\n",
       "      <th>1</th>\n",
       "      <td>I know, right? Like, an FMEA. I definitely kno...</td>\n",
       "      <td>28</td>\n",
       "    </tr>\n",
       "    <tr>\n",
       "      <th>2</th>\n",
       "      <td>Hello, we only allow people with an account ag...</td>\n",
       "      <td>5</td>\n",
       "    </tr>\n",
       "    <tr>\n",
       "      <th>3</th>\n",
       "      <td>Megumin reads das kapital??? New best girl.</td>\n",
       "      <td>2</td>\n",
       "    </tr>\n",
       "    <tr>\n",
       "      <th>4</th>\n",
       "      <td>Freedom of speech ? but you use a random anon ...</td>\n",
       "      <td>13</td>\n",
       "    </tr>\n",
       "    <tr>\n",
       "      <th>...</th>\n",
       "      <td>...</td>\n",
       "      <td>...</td>\n",
       "    </tr>\n",
       "    <tr>\n",
       "      <th>899995</th>\n",
       "      <td>For many people with ASD, this is not true. As...</td>\n",
       "      <td>1</td>\n",
       "    </tr>\n",
       "    <tr>\n",
       "      <th>899996</th>\n",
       "      <td>Hes too brashly for someone in crusading dista...</td>\n",
       "      <td>25</td>\n",
       "    </tr>\n",
       "    <tr>\n",
       "      <th>899997</th>\n",
       "      <td>But if you replace the word “man” with “ conse...</td>\n",
       "      <td>36</td>\n",
       "    </tr>\n",
       "    <tr>\n",
       "      <th>899998</th>\n",
       "      <td>You can sit down in the cubicle have a browse ...</td>\n",
       "      <td>37</td>\n",
       "    </tr>\n",
       "    <tr>\n",
       "      <th>899999</th>\n",
       "      <td>Some fried potatoes for you, m'lady. No wonder...</td>\n",
       "      <td>10</td>\n",
       "    </tr>\n",
       "  </tbody>\n",
       "</table>\n",
       "<p>900000 rows × 2 columns</p>\n",
       "</div>"
      ],
      "text/plain": [
       "                                                  Comment  Topic\n",
       "0                          Very hot and sexy nail color;)     21\n",
       "1       I know, right? Like, an FMEA. I definitely kno...     28\n",
       "2       Hello, we only allow people with an account ag...      5\n",
       "3             Megumin reads das kapital??? New best girl.      2\n",
       "4       Freedom of speech ? but you use a random anon ...     13\n",
       "...                                                   ...    ...\n",
       "899995  For many people with ASD, this is not true. As...      1\n",
       "899996  Hes too brashly for someone in crusading dista...     25\n",
       "899997  But if you replace the word “man” with “ conse...     36\n",
       "899998  You can sit down in the cubicle have a browse ...     37\n",
       "899999  Some fried potatoes for you, m'lady. No wonder...     10\n",
       "\n",
       "[900000 rows x 2 columns]"
      ]
     },
     "execution_count": 1,
     "metadata": {},
     "output_type": "execute_result"
    }
   ],
   "source": [
    "import pandas as pd\n",
    "\n",
    "df = pd.read_csv('/home/users/pgodbole2/TA_Training_Set.csv')\n",
    "df"
   ]
  },
  {
   "cell_type": "code",
   "execution_count": 2,
   "id": "65d862ae",
   "metadata": {},
   "outputs": [],
   "source": [
    "import numpy as np\n",
    "import pandas as pd\n",
    "import matplotlib.pyplot as plt\n",
    "import re\n",
    "import tensorflow as tf\n",
    "import transformers\n",
    "from transformers import BertTokenizer\n",
    "from transformers import DistilBertTokenizer, RobertaTokenizer\n",
    "from tensorflow.keras.optimizers import Adam, SGD\n",
    "import nltk \n",
    "from nltk.corpus import stopwords"
   ]
  },
  {
   "cell_type": "markdown",
   "id": "509c7b44",
   "metadata": {},
   "source": [
    "#### Data Preprocessing"
   ]
  },
  {
   "cell_type": "code",
   "execution_count": 3,
   "id": "7ffc12f2",
   "metadata": {},
   "outputs": [
    {
     "data": {
      "text/html": [
       "<div>\n",
       "<style scoped>\n",
       "    .dataframe tbody tr th:only-of-type {\n",
       "        vertical-align: middle;\n",
       "    }\n",
       "\n",
       "    .dataframe tbody tr th {\n",
       "        vertical-align: top;\n",
       "    }\n",
       "\n",
       "    .dataframe thead th {\n",
       "        text-align: right;\n",
       "    }\n",
       "</style>\n",
       "<table border=\"1\" class=\"dataframe\">\n",
       "  <thead>\n",
       "    <tr style=\"text-align: right;\">\n",
       "      <th></th>\n",
       "      <th>Comment</th>\n",
       "      <th>Topic</th>\n",
       "    </tr>\n",
       "  </thead>\n",
       "  <tbody>\n",
       "    <tr>\n",
       "      <th>0</th>\n",
       "      <td>very hot and sexy nail color</td>\n",
       "      <td>21</td>\n",
       "    </tr>\n",
       "    <tr>\n",
       "      <th>1</th>\n",
       "      <td>i know right like an fmea i definitely know wh...</td>\n",
       "      <td>28</td>\n",
       "    </tr>\n",
       "    <tr>\n",
       "      <th>2</th>\n",
       "      <td>hello we only allow people with an account age...</td>\n",
       "      <td>5</td>\n",
       "    </tr>\n",
       "    <tr>\n",
       "      <th>3</th>\n",
       "      <td>megumin reads das kapital new best girl</td>\n",
       "      <td>2</td>\n",
       "    </tr>\n",
       "    <tr>\n",
       "      <th>4</th>\n",
       "      <td>freedom of speech but you use a random anon ac...</td>\n",
       "      <td>13</td>\n",
       "    </tr>\n",
       "  </tbody>\n",
       "</table>\n",
       "</div>"
      ],
      "text/plain": [
       "                                             Comment  Topic\n",
       "0                       very hot and sexy nail color     21\n",
       "1  i know right like an fmea i definitely know wh...     28\n",
       "2  hello we only allow people with an account age...      5\n",
       "3            megumin reads das kapital new best girl      2\n",
       "4  freedom of speech but you use a random anon ac...     13"
      ]
     },
     "execution_count": 3,
     "metadata": {},
     "output_type": "execute_result"
    }
   ],
   "source": [
    "def tokens(words):\n",
    "    words = re.sub(\"[^a-zA-Z]\",\" \",words)\n",
    "    text = words.lower().split()\n",
    "    return \" \".join(text)\n",
    "\n",
    "df['Comment'] = df['Comment'].apply(tokens)\n",
    "df.head()"
   ]
  },
  {
   "cell_type": "code",
   "execution_count": 4,
   "id": "616f447b",
   "metadata": {},
   "outputs": [
    {
     "name": "stderr",
     "output_type": "stream",
     "text": [
      "[nltk_data] Downloading package stopwords to\n",
      "[nltk_data]     /home/users/pgodbole2/nltk_data...\n",
      "[nltk_data]   Package stopwords is already up-to-date!\n"
     ]
    },
    {
     "data": {
      "text/plain": [
       "['i', 'me', 'my', 'myself', 'we', 'our', 'ours', 'ourselves', 'you', \"you're\"]"
      ]
     },
     "execution_count": 4,
     "metadata": {},
     "output_type": "execute_result"
    }
   ],
   "source": [
    "nltk.download('stopwords')\n",
    "\n",
    "stop = stopwords.words('english')\n",
    "stop[0:10]"
   ]
  },
  {
   "cell_type": "code",
   "execution_count": 5,
   "id": "1d9be0e8",
   "metadata": {},
   "outputs": [],
   "source": [
    "def stopwords(text):\n",
    "    text = [word.lower() for word in text.split() if word.lower() not in stop]\n",
    "    return \" \".join(text)"
   ]
  },
  {
   "cell_type": "code",
   "execution_count": 6,
   "id": "68f2d701",
   "metadata": {},
   "outputs": [
    {
     "data": {
      "text/html": [
       "<div>\n",
       "<style scoped>\n",
       "    .dataframe tbody tr th:only-of-type {\n",
       "        vertical-align: middle;\n",
       "    }\n",
       "\n",
       "    .dataframe tbody tr th {\n",
       "        vertical-align: top;\n",
       "    }\n",
       "\n",
       "    .dataframe thead th {\n",
       "        text-align: right;\n",
       "    }\n",
       "</style>\n",
       "<table border=\"1\" class=\"dataframe\">\n",
       "  <thead>\n",
       "    <tr style=\"text-align: right;\">\n",
       "      <th></th>\n",
       "      <th>Comment</th>\n",
       "      <th>Topic</th>\n",
       "    </tr>\n",
       "  </thead>\n",
       "  <tbody>\n",
       "    <tr>\n",
       "      <th>0</th>\n",
       "      <td>hot sexy nail color</td>\n",
       "      <td>21</td>\n",
       "    </tr>\n",
       "    <tr>\n",
       "      <th>1</th>\n",
       "      <td>know right like fmea definitely know one want ...</td>\n",
       "      <td>28</td>\n",
       "    </tr>\n",
       "    <tr>\n",
       "      <th>2</th>\n",
       "      <td>hello allow people account age days comment ka...</td>\n",
       "      <td>5</td>\n",
       "    </tr>\n",
       "    <tr>\n",
       "      <th>3</th>\n",
       "      <td>megumin reads das kapital new best girl</td>\n",
       "      <td>2</td>\n",
       "    </tr>\n",
       "    <tr>\n",
       "      <th>4</th>\n",
       "      <td>freedom speech use random anon account brave</td>\n",
       "      <td>13</td>\n",
       "    </tr>\n",
       "  </tbody>\n",
       "</table>\n",
       "</div>"
      ],
      "text/plain": [
       "                                             Comment  Topic\n",
       "0                                hot sexy nail color     21\n",
       "1  know right like fmea definitely know one want ...     28\n",
       "2  hello allow people account age days comment ka...      5\n",
       "3            megumin reads das kapital new best girl      2\n",
       "4       freedom speech use random anon account brave     13"
      ]
     },
     "execution_count": 6,
     "metadata": {},
     "output_type": "execute_result"
    }
   ],
   "source": [
    "df['Comment'] = df['Comment'].apply(lambda x: stopwords(x))\n",
    "df.head()"
   ]
  },
  {
   "cell_type": "code",
   "execution_count": 7,
   "id": "d4917219",
   "metadata": {},
   "outputs": [
    {
     "name": "stderr",
     "output_type": "stream",
     "text": [
      "[nltk_data] Downloading package omw-1.4 to\n",
      "[nltk_data]     /home/users/pgodbole2/nltk_data...\n",
      "[nltk_data]   Package omw-1.4 is already up-to-date!\n"
     ]
    },
    {
     "data": {
      "text/plain": [
       "True"
      ]
     },
     "execution_count": 7,
     "metadata": {},
     "output_type": "execute_result"
    }
   ],
   "source": [
    "import nltk\n",
    "nltk.download('omw-1.4')"
   ]
  },
  {
   "cell_type": "code",
   "execution_count": 8,
   "id": "88513f2a",
   "metadata": {},
   "outputs": [
    {
     "name": "stderr",
     "output_type": "stream",
     "text": [
      "[nltk_data] Downloading package wordnet to\n",
      "[nltk_data]     /home/users/pgodbole2/nltk_data...\n",
      "[nltk_data]   Package wordnet is already up-to-date!\n"
     ]
    },
    {
     "data": {
      "text/html": [
       "<div>\n",
       "<style scoped>\n",
       "    .dataframe tbody tr th:only-of-type {\n",
       "        vertical-align: middle;\n",
       "    }\n",
       "\n",
       "    .dataframe tbody tr th {\n",
       "        vertical-align: top;\n",
       "    }\n",
       "\n",
       "    .dataframe thead th {\n",
       "        text-align: right;\n",
       "    }\n",
       "</style>\n",
       "<table border=\"1\" class=\"dataframe\">\n",
       "  <thead>\n",
       "    <tr style=\"text-align: right;\">\n",
       "      <th></th>\n",
       "      <th>Comment</th>\n",
       "      <th>Topic</th>\n",
       "    </tr>\n",
       "  </thead>\n",
       "  <tbody>\n",
       "    <tr>\n",
       "      <th>0</th>\n",
       "      <td>hot sexy nail color</td>\n",
       "      <td>21</td>\n",
       "    </tr>\n",
       "    <tr>\n",
       "      <th>1</th>\n",
       "      <td>know right like fmea definitely know one want ...</td>\n",
       "      <td>28</td>\n",
       "    </tr>\n",
       "    <tr>\n",
       "      <th>2</th>\n",
       "      <td>hello allow people account age day comment kar...</td>\n",
       "      <td>5</td>\n",
       "    </tr>\n",
       "    <tr>\n",
       "      <th>3</th>\n",
       "      <td>megumin read da kapital new best girl</td>\n",
       "      <td>2</td>\n",
       "    </tr>\n",
       "    <tr>\n",
       "      <th>4</th>\n",
       "      <td>freedom speech use random anon account brave</td>\n",
       "      <td>13</td>\n",
       "    </tr>\n",
       "  </tbody>\n",
       "</table>\n",
       "</div>"
      ],
      "text/plain": [
       "                                             Comment  Topic\n",
       "0                                hot sexy nail color     21\n",
       "1  know right like fmea definitely know one want ...     28\n",
       "2  hello allow people account age day comment kar...      5\n",
       "3              megumin read da kapital new best girl      2\n",
       "4       freedom speech use random anon account brave     13"
      ]
     },
     "execution_count": 8,
     "metadata": {},
     "output_type": "execute_result"
    }
   ],
   "source": [
    "nltk.download('wordnet')\n",
    "lem = nltk.stem.WordNetLemmatizer()\n",
    "\n",
    "def word_lem(text):\n",
    "    lem_text = [lem.lemmatize(word) for word in text.split()]\n",
    "    return \" \".join(lem_text)\n",
    "\n",
    "df['Comment'] = df['Comment'].apply(word_lem)\n",
    "df.head()"
   ]
  },
  {
   "cell_type": "code",
   "execution_count": 9,
   "id": "b72eb5ef",
   "metadata": {},
   "outputs": [
    {
     "data": {
      "text/plain": [
       "20    22572\n",
       "28    22570\n",
       "6     22564\n",
       "15    22550\n",
       "18    22548\n",
       "1     22539\n",
       "33    22533\n",
       "25    22533\n",
       "10    22530\n",
       "29    22527\n",
       "24    22523\n",
       "11    22521\n",
       "27    22519\n",
       "12    22515\n",
       "19    22513\n",
       "3     22513\n",
       "30    22510\n",
       "32    22503\n",
       "4     22503\n",
       "17    22497\n",
       "8     22492\n",
       "7     22492\n",
       "38    22491\n",
       "21    22491\n",
       "22    22486\n",
       "36    22486\n",
       "31    22483\n",
       "35    22483\n",
       "9     22482\n",
       "39    22482\n",
       "14    22469\n",
       "2     22468\n",
       "37    22464\n",
       "23    22460\n",
       "34    22458\n",
       "16    22453\n",
       "26    22452\n",
       "13    22450\n",
       "5     22439\n",
       "40    22436\n",
       "Name: Topic, dtype: int64"
      ]
     },
     "execution_count": 9,
     "metadata": {},
     "output_type": "execute_result"
    }
   ],
   "source": [
    "df['Topic'].value_counts()"
   ]
  },
  {
   "cell_type": "code",
   "execution_count": 13,
   "id": "7fea6b37",
   "metadata": {},
   "outputs": [
    {
     "data": {
      "text/plain": [
       "0                                       hot sexy nail color\n",
       "1         know right like fmea definitely know one want ...\n",
       "2         hello allow people account age day comment kar...\n",
       "3                     megumin read da kapital new best girl\n",
       "4              freedom speech use random anon account brave\n",
       "                                ...                        \n",
       "899995    many people asd true apply retarded equivalent...\n",
       "899996                he brashly someone crusading distance\n",
       "899997    replace word man conservative reddit think tot...\n",
       "899998    sit cubicle browse phone bit downtime much bet...\n",
       "899999    fried potato lady wonder everyone call reddito...\n",
       "Name: Comment, Length: 900000, dtype: object"
      ]
     },
     "execution_count": 13,
     "metadata": {},
     "output_type": "execute_result"
    }
   ],
   "source": [
    "df['Comment']"
   ]
  },
  {
   "cell_type": "markdown",
   "id": "bbb9fd2f",
   "metadata": {},
   "source": [
    "#### Train Test Split"
   ]
  },
  {
   "cell_type": "code",
   "execution_count": 19,
   "id": "f8a320e7",
   "metadata": {},
   "outputs": [],
   "source": [
    "train = df[:720000]\n",
    "test = df[720000:]"
   ]
  },
  {
   "cell_type": "code",
   "execution_count": 20,
   "id": "39278c28",
   "metadata": {},
   "outputs": [],
   "source": [
    "train.to_csv('train.csv',encoding='utf-8')\n",
    "test.to_csv('test.csv',encoding='utf-8')"
   ]
  },
  {
   "cell_type": "code",
   "execution_count": 21,
   "id": "cfd1ca3a",
   "metadata": {},
   "outputs": [],
   "source": [
    "train = pd.read_csv('train.csv',encoding='utf-8')\n",
    "test = pd.read_csv('test.csv',encoding='utf-8')"
   ]
  },
  {
   "cell_type": "code",
   "execution_count": 22,
   "id": "b009ab0c",
   "metadata": {},
   "outputs": [],
   "source": [
    "train = train[~train['Comment'].isnull()]"
   ]
  },
  {
   "cell_type": "code",
   "execution_count": 23,
   "id": "009a6296",
   "metadata": {},
   "outputs": [
    {
     "data": {
      "text/html": [
       "<div>\n",
       "<style scoped>\n",
       "    .dataframe tbody tr th:only-of-type {\n",
       "        vertical-align: middle;\n",
       "    }\n",
       "\n",
       "    .dataframe tbody tr th {\n",
       "        vertical-align: top;\n",
       "    }\n",
       "\n",
       "    .dataframe thead th {\n",
       "        text-align: right;\n",
       "    }\n",
       "</style>\n",
       "<table border=\"1\" class=\"dataframe\">\n",
       "  <thead>\n",
       "    <tr style=\"text-align: right;\">\n",
       "      <th></th>\n",
       "      <th>Comment</th>\n",
       "      <th>Topic</th>\n",
       "    </tr>\n",
       "  </thead>\n",
       "  <tbody>\n",
       "    <tr>\n",
       "      <th>0</th>\n",
       "      <td>hot sexy nail color</td>\n",
       "      <td>21</td>\n",
       "    </tr>\n",
       "    <tr>\n",
       "      <th>1</th>\n",
       "      <td>know right like fmea definitely know one want ...</td>\n",
       "      <td>28</td>\n",
       "    </tr>\n",
       "    <tr>\n",
       "      <th>2</th>\n",
       "      <td>hello allow people account age day comment kar...</td>\n",
       "      <td>5</td>\n",
       "    </tr>\n",
       "    <tr>\n",
       "      <th>3</th>\n",
       "      <td>megumin read da kapital new best girl</td>\n",
       "      <td>2</td>\n",
       "    </tr>\n",
       "    <tr>\n",
       "      <th>4</th>\n",
       "      <td>freedom speech use random anon account brave</td>\n",
       "      <td>13</td>\n",
       "    </tr>\n",
       "    <tr>\n",
       "      <th>...</th>\n",
       "      <td>...</td>\n",
       "      <td>...</td>\n",
       "    </tr>\n",
       "    <tr>\n",
       "      <th>719995</th>\n",
       "      <td>see need make look bad would</td>\n",
       "      <td>28</td>\n",
       "    </tr>\n",
       "    <tr>\n",
       "      <th>719996</th>\n",
       "      <td>uploader buying subscriber view pretty clear l...</td>\n",
       "      <td>38</td>\n",
       "    </tr>\n",
       "    <tr>\n",
       "      <th>719997</th>\n",
       "      <td>saying woman wider variety stuff judge someone...</td>\n",
       "      <td>37</td>\n",
       "    </tr>\n",
       "    <tr>\n",
       "      <th>719998</th>\n",
       "      <td>haha stage grief still denial friend anger com...</td>\n",
       "      <td>14</td>\n",
       "    </tr>\n",
       "    <tr>\n",
       "      <th>719999</th>\n",
       "      <td>said level time</td>\n",
       "      <td>39</td>\n",
       "    </tr>\n",
       "  </tbody>\n",
       "</table>\n",
       "<p>703513 rows × 2 columns</p>\n",
       "</div>"
      ],
      "text/plain": [
       "                                                  Comment  Topic\n",
       "0                                     hot sexy nail color     21\n",
       "1       know right like fmea definitely know one want ...     28\n",
       "2       hello allow people account age day comment kar...      5\n",
       "3                   megumin read da kapital new best girl      2\n",
       "4            freedom speech use random anon account brave     13\n",
       "...                                                   ...    ...\n",
       "719995                       see need make look bad would     28\n",
       "719996  uploader buying subscriber view pretty clear l...     38\n",
       "719997  saying woman wider variety stuff judge someone...     37\n",
       "719998  haha stage grief still denial friend anger com...     14\n",
       "719999                                    said level time     39\n",
       "\n",
       "[703513 rows x 2 columns]"
      ]
     },
     "execution_count": 23,
     "metadata": {},
     "output_type": "execute_result"
    }
   ],
   "source": [
    "train.drop(columns = ('Unnamed: 0'), axis = 1, inplace = True)\n",
    "train"
   ]
  },
  {
   "cell_type": "code",
   "execution_count": 24,
   "id": "2b3ef6b5",
   "metadata": {},
   "outputs": [],
   "source": [
    "train = train.reset_index()"
   ]
  },
  {
   "cell_type": "code",
   "execution_count": 25,
   "id": "fb0b7472",
   "metadata": {},
   "outputs": [
    {
     "data": {
      "text/html": [
       "<div>\n",
       "<style scoped>\n",
       "    .dataframe tbody tr th:only-of-type {\n",
       "        vertical-align: middle;\n",
       "    }\n",
       "\n",
       "    .dataframe tbody tr th {\n",
       "        vertical-align: top;\n",
       "    }\n",
       "\n",
       "    .dataframe thead th {\n",
       "        text-align: right;\n",
       "    }\n",
       "</style>\n",
       "<table border=\"1\" class=\"dataframe\">\n",
       "  <thead>\n",
       "    <tr style=\"text-align: right;\">\n",
       "      <th></th>\n",
       "      <th>Comment</th>\n",
       "      <th>Topic</th>\n",
       "    </tr>\n",
       "  </thead>\n",
       "  <tbody>\n",
       "    <tr>\n",
       "      <th>0</th>\n",
       "      <td>hot sexy nail color</td>\n",
       "      <td>21</td>\n",
       "    </tr>\n",
       "    <tr>\n",
       "      <th>1</th>\n",
       "      <td>know right like fmea definitely know one want ...</td>\n",
       "      <td>28</td>\n",
       "    </tr>\n",
       "    <tr>\n",
       "      <th>2</th>\n",
       "      <td>hello allow people account age day comment kar...</td>\n",
       "      <td>5</td>\n",
       "    </tr>\n",
       "    <tr>\n",
       "      <th>3</th>\n",
       "      <td>megumin read da kapital new best girl</td>\n",
       "      <td>2</td>\n",
       "    </tr>\n",
       "    <tr>\n",
       "      <th>4</th>\n",
       "      <td>freedom speech use random anon account brave</td>\n",
       "      <td>13</td>\n",
       "    </tr>\n",
       "  </tbody>\n",
       "</table>\n",
       "</div>"
      ],
      "text/plain": [
       "                                             Comment  Topic\n",
       "0                                hot sexy nail color     21\n",
       "1  know right like fmea definitely know one want ...     28\n",
       "2  hello allow people account age day comment kar...      5\n",
       "3              megumin read da kapital new best girl      2\n",
       "4       freedom speech use random anon account brave     13"
      ]
     },
     "execution_count": 25,
     "metadata": {},
     "output_type": "execute_result"
    }
   ],
   "source": [
    "train.drop(columns=['index'], inplace=True)\n",
    "train.head()"
   ]
  },
  {
   "cell_type": "code",
   "execution_count": 26,
   "id": "1fb0021c",
   "metadata": {},
   "outputs": [],
   "source": [
    "test = test[~test['Comment'].isnull()]"
   ]
  },
  {
   "cell_type": "code",
   "execution_count": 27,
   "id": "41a02458",
   "metadata": {},
   "outputs": [
    {
     "data": {
      "text/html": [
       "<div>\n",
       "<style scoped>\n",
       "    .dataframe tbody tr th:only-of-type {\n",
       "        vertical-align: middle;\n",
       "    }\n",
       "\n",
       "    .dataframe tbody tr th {\n",
       "        vertical-align: top;\n",
       "    }\n",
       "\n",
       "    .dataframe thead th {\n",
       "        text-align: right;\n",
       "    }\n",
       "</style>\n",
       "<table border=\"1\" class=\"dataframe\">\n",
       "  <thead>\n",
       "    <tr style=\"text-align: right;\">\n",
       "      <th></th>\n",
       "      <th>Comment</th>\n",
       "      <th>Topic</th>\n",
       "    </tr>\n",
       "  </thead>\n",
       "  <tbody>\n",
       "    <tr>\n",
       "      <th>0</th>\n",
       "      <td>well yeah hot plenty thing wrong hot</td>\n",
       "      <td>30</td>\n",
       "    </tr>\n",
       "    <tr>\n",
       "      <th>1</th>\n",
       "      <td>would become addicted thing keep engaging educ...</td>\n",
       "      <td>20</td>\n",
       "    </tr>\n",
       "    <tr>\n",
       "      <th>2</th>\n",
       "      <td>side</td>\n",
       "      <td>19</td>\n",
       "    </tr>\n",
       "    <tr>\n",
       "      <th>3</th>\n",
       "      <td>give shit comment reddit sing fuck ramos every...</td>\n",
       "      <td>33</td>\n",
       "    </tr>\n",
       "    <tr>\n",
       "      <th>4</th>\n",
       "      <td>yeah would chance euron going full psycho eldr...</td>\n",
       "      <td>14</td>\n",
       "    </tr>\n",
       "    <tr>\n",
       "      <th>...</th>\n",
       "      <td>...</td>\n",
       "      <td>...</td>\n",
       "    </tr>\n",
       "    <tr>\n",
       "      <th>179995</th>\n",
       "      <td>many people asd true apply retarded equivalent...</td>\n",
       "      <td>1</td>\n",
       "    </tr>\n",
       "    <tr>\n",
       "      <th>179996</th>\n",
       "      <td>he brashly someone crusading distance</td>\n",
       "      <td>25</td>\n",
       "    </tr>\n",
       "    <tr>\n",
       "      <th>179997</th>\n",
       "      <td>replace word man conservative reddit think tot...</td>\n",
       "      <td>36</td>\n",
       "    </tr>\n",
       "    <tr>\n",
       "      <th>179998</th>\n",
       "      <td>sit cubicle browse phone bit downtime much bet...</td>\n",
       "      <td>37</td>\n",
       "    </tr>\n",
       "    <tr>\n",
       "      <th>179999</th>\n",
       "      <td>fried potato lady wonder everyone call reddito...</td>\n",
       "      <td>10</td>\n",
       "    </tr>\n",
       "  </tbody>\n",
       "</table>\n",
       "<p>175899 rows × 2 columns</p>\n",
       "</div>"
      ],
      "text/plain": [
       "                                                  Comment  Topic\n",
       "0                    well yeah hot plenty thing wrong hot     30\n",
       "1       would become addicted thing keep engaging educ...     20\n",
       "2                                                    side     19\n",
       "3       give shit comment reddit sing fuck ramos every...     33\n",
       "4       yeah would chance euron going full psycho eldr...     14\n",
       "...                                                   ...    ...\n",
       "179995  many people asd true apply retarded equivalent...      1\n",
       "179996              he brashly someone crusading distance     25\n",
       "179997  replace word man conservative reddit think tot...     36\n",
       "179998  sit cubicle browse phone bit downtime much bet...     37\n",
       "179999  fried potato lady wonder everyone call reddito...     10\n",
       "\n",
       "[175899 rows x 2 columns]"
      ]
     },
     "execution_count": 27,
     "metadata": {},
     "output_type": "execute_result"
    }
   ],
   "source": [
    "test.drop(columns = ('Unnamed: 0'), axis = 1, inplace = True)\n",
    "test"
   ]
  },
  {
   "cell_type": "code",
   "execution_count": 28,
   "id": "fcaf1ffa",
   "metadata": {},
   "outputs": [
    {
     "data": {
      "text/html": [
       "<div>\n",
       "<style scoped>\n",
       "    .dataframe tbody tr th:only-of-type {\n",
       "        vertical-align: middle;\n",
       "    }\n",
       "\n",
       "    .dataframe tbody tr th {\n",
       "        vertical-align: top;\n",
       "    }\n",
       "\n",
       "    .dataframe thead th {\n",
       "        text-align: right;\n",
       "    }\n",
       "</style>\n",
       "<table border=\"1\" class=\"dataframe\">\n",
       "  <thead>\n",
       "    <tr style=\"text-align: right;\">\n",
       "      <th></th>\n",
       "      <th>Comment</th>\n",
       "      <th>Topic</th>\n",
       "    </tr>\n",
       "  </thead>\n",
       "  <tbody>\n",
       "    <tr>\n",
       "      <th>0</th>\n",
       "      <td>well yeah hot plenty thing wrong hot</td>\n",
       "      <td>30</td>\n",
       "    </tr>\n",
       "    <tr>\n",
       "      <th>1</th>\n",
       "      <td>would become addicted thing keep engaging educ...</td>\n",
       "      <td>20</td>\n",
       "    </tr>\n",
       "    <tr>\n",
       "      <th>2</th>\n",
       "      <td>side</td>\n",
       "      <td>19</td>\n",
       "    </tr>\n",
       "    <tr>\n",
       "      <th>3</th>\n",
       "      <td>give shit comment reddit sing fuck ramos every...</td>\n",
       "      <td>33</td>\n",
       "    </tr>\n",
       "    <tr>\n",
       "      <th>4</th>\n",
       "      <td>yeah would chance euron going full psycho eldr...</td>\n",
       "      <td>14</td>\n",
       "    </tr>\n",
       "  </tbody>\n",
       "</table>\n",
       "</div>"
      ],
      "text/plain": [
       "                                             Comment  Topic\n",
       "0               well yeah hot plenty thing wrong hot     30\n",
       "1  would become addicted thing keep engaging educ...     20\n",
       "2                                               side     19\n",
       "3  give shit comment reddit sing fuck ramos every...     33\n",
       "4  yeah would chance euron going full psycho eldr...     14"
      ]
     },
     "execution_count": 28,
     "metadata": {},
     "output_type": "execute_result"
    }
   ],
   "source": [
    "test = test.reset_index()\n",
    "test.drop(columns=['index'], inplace=True)\n",
    "test.head()"
   ]
  },
  {
   "cell_type": "markdown",
   "id": "6801bdf4",
   "metadata": {},
   "source": [
    "#### Using BertTokenizer"
   ]
  },
  {
   "cell_type": "code",
   "execution_count": 29,
   "id": "67f4d2ce",
   "metadata": {},
   "outputs": [],
   "source": [
    "from transformers import BertTokenizer\n",
    "tokenizer = BertTokenizer.from_pretrained('bert-base-uncased', do_lower_case=True)"
   ]
  },
  {
   "cell_type": "code",
   "execution_count": 30,
   "id": "9725e3cf",
   "metadata": {},
   "outputs": [],
   "source": [
    "def bert_encode(data,maximum_length) :\n",
    "    input_ids = []\n",
    "    attention_masks = []\n",
    "  \n",
    "\n",
    "    for i in range(len(data.Comment)):\n",
    "        encoded = tokenizer.encode_plus(\n",
    "        \n",
    "        data.Comment[i],\n",
    "        add_special_tokens=True,\n",
    "        max_length=maximum_length,\n",
    "        pad_to_max_length=True,\n",
    "        \n",
    "        return_attention_mask=True,\n",
    "        \n",
    "      )\n",
    "      \n",
    "        input_ids.append(encoded['input_ids'])\n",
    "        attention_masks.append(encoded['attention_mask'])\n",
    "    return np.array(input_ids),np.array(attention_masks)"
   ]
  },
  {
   "cell_type": "code",
   "execution_count": 31,
   "id": "466deb95",
   "metadata": {},
   "outputs": [
    {
     "name": "stderr",
     "output_type": "stream",
     "text": [
      "Truncation was not explicitly activated but `max_length` is provided a specific value, please use `truncation=True` to explicitly truncate examples to max length. Defaulting to 'longest_first' truncation strategy. If you encode pairs of sequences (GLUE-style) with the tokenizer you can select this strategy more precisely by providing a specific strategy to `truncation`.\n",
      "/home/users/pgodbole2/.local/lib/python3.7/site-packages/transformers/tokenization_utils_base.py:2269: FutureWarning: The `pad_to_max_length` argument is deprecated and will be removed in a future version, use `padding=True` or `padding='longest'` to pad to the longest sequence in the batch, or use `padding='max_length'` to pad to a max length. In this case, you can give a specific length with `max_length` (e.g. `max_length=45`) or leave max_length to None to pad to the maximal input size of the model (e.g. 512 for Bert).\n",
      "  FutureWarning,\n"
     ]
    }
   ],
   "source": [
    "train_input_ids,train_attention_masks = bert_encode(train,121)"
   ]
  },
  {
   "cell_type": "code",
   "execution_count": 32,
   "id": "f0343bc5",
   "metadata": {},
   "outputs": [
    {
     "data": {
      "text/plain": [
       "(703513, 121)"
      ]
     },
     "execution_count": 32,
     "metadata": {},
     "output_type": "execute_result"
    }
   ],
   "source": [
    "train_input_ids.shape"
   ]
  },
  {
   "cell_type": "code",
   "execution_count": 33,
   "id": "cb8783e2",
   "metadata": {},
   "outputs": [],
   "source": [
    "test_input_ids,test_attention_masks = bert_encode(test,121)"
   ]
  },
  {
   "cell_type": "code",
   "execution_count": 34,
   "id": "047b77a7",
   "metadata": {},
   "outputs": [
    {
     "data": {
      "text/plain": [
       "(175899, 121)"
      ]
     },
     "execution_count": 34,
     "metadata": {},
     "output_type": "execute_result"
    }
   ],
   "source": [
    "test_input_ids.shape"
   ]
  },
  {
   "cell_type": "markdown",
   "id": "92528157",
   "metadata": {},
   "source": [
    "#### Model Creation"
   ]
  },
  {
   "cell_type": "code",
   "execution_count": 35,
   "id": "a2122677",
   "metadata": {},
   "outputs": [],
   "source": [
    "def create_model(bert_model):\n",
    "    input_ids = tf.keras.Input(shape=(121,),dtype='int32')\n",
    "    attention_masks = tf.keras.Input(shape=(121,),dtype='int32')\n",
    "    \n",
    "    output = bert_model([input_ids,attention_masks])\n",
    "    output = output[1]\n",
    "    \n",
    "    #output = tf.keras.layers.Dense(60,activation='tanh')(output)\n",
    "    #output = tf.keras.layers.BatchNormalization()(output)\n",
    "    \n",
    "    #output = tf.keras.layers.Dense(30,activation='tanh')(output)\n",
    "    #output = tf.keras.layers.Dropout(0.2)(output)\n",
    "\n",
    "    output = tf.keras.layers.Dense(41,activation='softmax')(output)\n",
    "    model = tf.keras.models.Model(inputs = [input_ids,attention_masks],outputs = output)\n",
    "    model.compile(Adam(learning_rate=6e-6), loss='sparse_categorical_crossentropy', metrics=['accuracy'])\n",
    "    return model"
   ]
  },
  {
   "cell_type": "code",
   "execution_count": 36,
   "id": "aa184b06",
   "metadata": {},
   "outputs": [],
   "source": [
    "from transformers import TFBertModel"
   ]
  },
  {
   "cell_type": "code",
   "execution_count": 37,
   "id": "5c3a70dc",
   "metadata": {},
   "outputs": [
    {
     "name": "stderr",
     "output_type": "stream",
     "text": [
      "2022-04-24 14:08:36.741210: I tensorflow/core/platform/cpu_feature_guard.cc:142] This TensorFlow binary is optimized with oneAPI Deep Neural Network Library (oneDNN) to use the following CPU instructions in performance-critical operations:  AVX2 AVX512F FMA\n",
      "To enable them in other operations, rebuild TensorFlow with the appropriate compiler flags.\n",
      "2022-04-24 14:08:37.171430: I tensorflow/core/common_runtime/gpu/gpu_device.cc:1510] Created device /job:localhost/replica:0/task:0/device:GPU:0 with 30997 MB memory:  -> device: 0, name: Tesla V100-PCIE-32GB, pci bus id: 0000:3b:00.0, compute capability: 7.0\n",
      "Some layers from the model checkpoint at bert-base-uncased were not used when initializing TFBertModel: ['nsp___cls', 'mlm___cls']\n",
      "- This IS expected if you are initializing TFBertModel from the checkpoint of a model trained on another task or with another architecture (e.g. initializing a BertForSequenceClassification model from a BertForPreTraining model).\n",
      "- This IS NOT expected if you are initializing TFBertModel from the checkpoint of a model that you expect to be exactly identical (initializing a BertForSequenceClassification model from a BertForSequenceClassification model).\n",
      "All the layers of TFBertModel were initialized from the model checkpoint at bert-base-uncased.\n",
      "If your task is similar to the task the model of the checkpoint was trained on, you can already use TFBertModel for predictions without further training.\n"
     ]
    }
   ],
   "source": [
    "bert_model = TFBertModel.from_pretrained('bert-base-uncased')"
   ]
  },
  {
   "cell_type": "code",
   "execution_count": 38,
   "id": "e0eea2fe",
   "metadata": {},
   "outputs": [
    {
     "data": {
      "text/plain": [
       "<transformers.models.bert.modeling_tf_bert.TFBertModel at 0x7fc45f07ff90>"
      ]
     },
     "execution_count": 38,
     "metadata": {},
     "output_type": "execute_result"
    }
   ],
   "source": [
    "bert_model"
   ]
  },
  {
   "cell_type": "code",
   "execution_count": 39,
   "id": "20e0b94d",
   "metadata": {},
   "outputs": [
    {
     "name": "stdout",
     "output_type": "stream",
     "text": [
      "Model: \"model\"\n",
      "__________________________________________________________________________________________________\n",
      "Layer (type)                    Output Shape         Param #     Connected to                     \n",
      "==================================================================================================\n",
      "input_1 (InputLayer)            [(None, 121)]        0                                            \n",
      "__________________________________________________________________________________________________\n",
      "input_2 (InputLayer)            [(None, 121)]        0                                            \n",
      "__________________________________________________________________________________________________\n",
      "tf_bert_model (TFBertModel)     TFBaseModelOutputWit 109482240   input_1[0][0]                    \n",
      "                                                                 input_2[0][0]                    \n",
      "__________________________________________________________________________________________________\n",
      "dense (Dense)                   (None, 41)           31529       tf_bert_model[0][1]              \n",
      "==================================================================================================\n",
      "Total params: 109,513,769\n",
      "Trainable params: 109,513,769\n",
      "Non-trainable params: 0\n",
      "__________________________________________________________________________________________________\n"
     ]
    }
   ],
   "source": [
    "model = create_model(bert_model)\n",
    "model.summary()"
   ]
  },
  {
   "cell_type": "code",
   "execution_count": 40,
   "id": "e87efa1e",
   "metadata": {},
   "outputs": [],
   "source": [
    "#pip install graphviz"
   ]
  },
  {
   "cell_type": "code",
   "execution_count": 41,
   "id": "eb92ebcc",
   "metadata": {},
   "outputs": [],
   "source": [
    "#from keras.utils.vis_utils import plot_model\n",
    "#plot_model(model, to_file='model_plot.png', show_shapes=True, show_layer_names=True)\n"
   ]
  },
  {
   "cell_type": "code",
   "execution_count": 42,
   "id": "6d25504f",
   "metadata": {},
   "outputs": [],
   "source": [
    "dummy = train\n",
    "targets = dummy['Topic'].values\n",
    "\n",
    "dummy2 = test\n",
    "targets_y = dummy2['Topic'].values"
   ]
  },
  {
   "cell_type": "code",
   "execution_count": 43,
   "id": "301054d2",
   "metadata": {},
   "outputs": [],
   "source": [
    "# history = model.fit([train_input_ids,train_attention_masks],targets,validation_data=([test_input_ids,test_attention_masks],targets_y), epochs=4,batch_size=64)"
   ]
  },
  {
   "cell_type": "code",
   "execution_count": null,
   "id": "87789001",
   "metadata": {},
   "outputs": [],
   "source": []
  },
  {
   "cell_type": "code",
   "execution_count": null,
   "id": "6b9b6f10",
   "metadata": {},
   "outputs": [
    {
     "name": "stderr",
     "output_type": "stream",
     "text": [
      "2022-04-24 14:08:43.958587: I tensorflow/compiler/mlir/mlir_graph_optimization_pass.cc:185] None of the MLIR Optimization Passes are enabled (registered 2)\n"
     ]
    },
    {
     "name": "stdout",
     "output_type": "stream",
     "text": [
      "Epoch 1/4\n",
      "10993/10993 [==============================] - 6071s 551ms/step - loss: 2.4243 - accuracy: 0.3514 - val_loss: 2.1596 - val_accuracy: 0.4167\n",
      "Epoch 2/4\n",
      "10993/10993 [==============================] - 6057s 551ms/step - loss: 1.9648 - accuracy: 0.4636 - val_loss: 2.0029 - val_accuracy: 0.4577\n",
      "Epoch 4/4\n",
      "10993/10993 [==============================] - ETA: 0s - loss: 1.8695 - accuracy: 0.4873"
     ]
    }
   ],
   "source": [
    "history1 = model.fit([train_input_ids,train_attention_masks],targets,validation_data=([test_input_ids,test_attention_masks],targets_y), epochs=4,batch_size=64)"
   ]
  },
  {
   "cell_type": "code",
   "execution_count": 36,
   "id": "941513cc",
   "metadata": {},
   "outputs": [],
   "source": [
    "model.save('TA_Model_New.h5')"
   ]
  },
  {
   "cell_type": "markdown",
   "id": "a56d592a",
   "metadata": {},
   "source": [
    "#### Predicting on Test Data"
   ]
  },
  {
   "cell_type": "code",
   "execution_count": 37,
   "id": "76ddf71a",
   "metadata": {},
   "outputs": [
    {
     "data": {
      "text/html": [
       "<div>\n",
       "<style scoped>\n",
       "    .dataframe tbody tr th:only-of-type {\n",
       "        vertical-align: middle;\n",
       "    }\n",
       "\n",
       "    .dataframe tbody tr th {\n",
       "        vertical-align: top;\n",
       "    }\n",
       "\n",
       "    .dataframe thead th {\n",
       "        text-align: right;\n",
       "    }\n",
       "</style>\n",
       "<table border=\"1\" class=\"dataframe\">\n",
       "  <thead>\n",
       "    <tr style=\"text-align: right;\">\n",
       "      <th></th>\n",
       "      <th>Comment</th>\n",
       "    </tr>\n",
       "  </thead>\n",
       "  <tbody>\n",
       "    <tr>\n",
       "      <th>0</th>\n",
       "      <td>I bought a month and a half out on a stock tha...</td>\n",
       "    </tr>\n",
       "    <tr>\n",
       "      <th>1</th>\n",
       "      <td>Parity used to be the justification, but that ...</td>\n",
       "    </tr>\n",
       "    <tr>\n",
       "      <th>2</th>\n",
       "      <td>Yeah cartel. Legolas is gonna shoot your ass d...</td>\n",
       "    </tr>\n",
       "    <tr>\n",
       "      <th>3</th>\n",
       "      <td>I do think he’s TA, but there’s one thing with...</td>\n",
       "    </tr>\n",
       "    <tr>\n",
       "      <th>4</th>\n",
       "      <td>Were trying, let you know if anything works</td>\n",
       "    </tr>\n",
       "  </tbody>\n",
       "</table>\n",
       "</div>"
      ],
      "text/plain": [
       "                                             Comment\n",
       "0  I bought a month and a half out on a stock tha...\n",
       "1  Parity used to be the justification, but that ...\n",
       "2  Yeah cartel. Legolas is gonna shoot your ass d...\n",
       "3  I do think he’s TA, but there’s one thing with...\n",
       "4        Were trying, let you know if anything works"
      ]
     },
     "execution_count": 37,
     "metadata": {},
     "output_type": "execute_result"
    }
   ],
   "source": [
    "test_df = pd.read_csv('/home/users/pgodbole2/TA_Test_Set.csv')\n",
    "#test_df.drop(columns = 'Topic', inplace = True)\n",
    "#test_df.reset_index()\n",
    "test_df.head()"
   ]
  },
  {
   "cell_type": "code",
   "execution_count": 38,
   "id": "184870a0",
   "metadata": {},
   "outputs": [
    {
     "data": {
      "text/html": [
       "<div>\n",
       "<style scoped>\n",
       "    .dataframe tbody tr th:only-of-type {\n",
       "        vertical-align: middle;\n",
       "    }\n",
       "\n",
       "    .dataframe tbody tr th {\n",
       "        vertical-align: top;\n",
       "    }\n",
       "\n",
       "    .dataframe thead th {\n",
       "        text-align: right;\n",
       "    }\n",
       "</style>\n",
       "<table border=\"1\" class=\"dataframe\">\n",
       "  <thead>\n",
       "    <tr style=\"text-align: right;\">\n",
       "      <th></th>\n",
       "      <th>Comment</th>\n",
       "    </tr>\n",
       "  </thead>\n",
       "  <tbody>\n",
       "    <tr>\n",
       "      <th>0</th>\n",
       "      <td>bought month half stock almost option volume l...</td>\n",
       "    </tr>\n",
       "    <tr>\n",
       "      <th>1</th>\n",
       "      <td>parity used justification day free agency way ...</td>\n",
       "    </tr>\n",
       "    <tr>\n",
       "      <th>2</th>\n",
       "      <td>yeah cartel legolas gonna shoot as</td>\n",
       "    </tr>\n",
       "    <tr>\n",
       "      <th>3</th>\n",
       "      <td>think ta one thing saying thinking maybe maybe...</td>\n",
       "    </tr>\n",
       "    <tr>\n",
       "      <th>4</th>\n",
       "      <td>trying let know anything work</td>\n",
       "    </tr>\n",
       "    <tr>\n",
       "      <th>...</th>\n",
       "      <td>...</td>\n",
       "    </tr>\n",
       "    <tr>\n",
       "      <th>99995</th>\n",
       "      <td>migraine sufferer tell coffee catalyst getting...</td>\n",
       "    </tr>\n",
       "    <tr>\n",
       "      <th>99996</th>\n",
       "      <td>drink room temperature tap water</td>\n",
       "    </tr>\n",
       "    <tr>\n",
       "      <th>99997</th>\n",
       "      <td>live campus happened super fucked</td>\n",
       "    </tr>\n",
       "    <tr>\n",
       "      <th>99998</th>\n",
       "      <td>bro nobody like shit</td>\n",
       "    </tr>\n",
       "    <tr>\n",
       "      <th>99999</th>\n",
       "      <td>got logic would suggest name son shota probabl...</td>\n",
       "    </tr>\n",
       "  </tbody>\n",
       "</table>\n",
       "<p>100000 rows × 1 columns</p>\n",
       "</div>"
      ],
      "text/plain": [
       "                                                 Comment\n",
       "0      bought month half stock almost option volume l...\n",
       "1      parity used justification day free agency way ...\n",
       "2                     yeah cartel legolas gonna shoot as\n",
       "3      think ta one thing saying thinking maybe maybe...\n",
       "4                          trying let know anything work\n",
       "...                                                  ...\n",
       "99995  migraine sufferer tell coffee catalyst getting...\n",
       "99996                   drink room temperature tap water\n",
       "99997                  live campus happened super fucked\n",
       "99998                               bro nobody like shit\n",
       "99999  got logic would suggest name son shota probabl...\n",
       "\n",
       "[100000 rows x 1 columns]"
      ]
     },
     "execution_count": 38,
     "metadata": {},
     "output_type": "execute_result"
    }
   ],
   "source": [
    "test_df['Comment'] = test_df['Comment'].apply(tokens)\n",
    "test_df['Comment'] = test_df['Comment'].apply(lambda x: stopwords(x))\n",
    "test_df['Comment'] = test_df['Comment'].apply(word_lem)\n",
    "test_df"
   ]
  },
  {
   "cell_type": "code",
   "execution_count": 47,
   "id": "8b768b92",
   "metadata": {},
   "outputs": [
    {
     "data": {
      "text/html": [
       "<div>\n",
       "<style scoped>\n",
       "    .dataframe tbody tr th:only-of-type {\n",
       "        vertical-align: middle;\n",
       "    }\n",
       "\n",
       "    .dataframe tbody tr th {\n",
       "        vertical-align: top;\n",
       "    }\n",
       "\n",
       "    .dataframe thead th {\n",
       "        text-align: right;\n",
       "    }\n",
       "</style>\n",
       "<table border=\"1\" class=\"dataframe\">\n",
       "  <thead>\n",
       "    <tr style=\"text-align: right;\">\n",
       "      <th></th>\n",
       "      <th>Comment</th>\n",
       "    </tr>\n",
       "  </thead>\n",
       "  <tbody>\n",
       "    <tr>\n",
       "      <th>0</th>\n",
       "      <td>ultimate farming whats gt join u</td>\n",
       "    </tr>\n",
       "  </tbody>\n",
       "</table>\n",
       "</div>"
      ],
      "text/plain": [
       "                            Comment\n",
       "0  ultimate farming whats gt join u"
      ]
     },
     "execution_count": 47,
     "metadata": {},
     "output_type": "execute_result"
    }
   ],
   "source": [
    "test_df = test_df.reset_index()\n",
    "test_df.drop(columns = 'index', axis = 1, inplace = True)\n",
    "test_df"
   ]
  },
  {
   "cell_type": "code",
   "execution_count": null,
   "id": "2e1b3f7c",
   "metadata": {},
   "outputs": [],
   "source": [
    "#topic = 6"
   ]
  },
  {
   "cell_type": "code",
   "execution_count": 39,
   "id": "6fd39b54",
   "metadata": {},
   "outputs": [
    {
     "name": "stderr",
     "output_type": "stream",
     "text": [
      "/home/users/pgodbole2/.local/lib/python3.7/site-packages/transformers/tokenization_utils_base.py:2269: FutureWarning: The `pad_to_max_length` argument is deprecated and will be removed in a future version, use `padding=True` or `padding='longest'` to pad to the longest sequence in the batch, or use `padding='max_length'` to pad to a max length. In this case, you can give a specific length with `max_length` (e.g. `max_length=45`) or leave max_length to None to pad to the maximal input size of the model (e.g. 512 for Bert).\n",
      "  FutureWarning,\n"
     ]
    }
   ],
   "source": [
    "# test_id, test_mask = bert_encode(test_df, 60)"
   ]
  },
  {
   "cell_type": "code",
   "execution_count": 40,
   "id": "dee592bf",
   "metadata": {},
   "outputs": [
    {
     "data": {
      "text/plain": [
       "100000"
      ]
     },
     "execution_count": 40,
     "metadata": {},
     "output_type": "execute_result"
    }
   ],
   "source": [
    "# test_id.shape[0]"
   ]
  },
  {
   "cell_type": "code",
   "execution_count": 41,
   "id": "bcc3f942",
   "metadata": {},
   "outputs": [],
   "source": [
    "y_pred = model.predict([test_id, test_mask])"
   ]
  },
  {
   "cell_type": "code",
   "execution_count": 42,
   "id": "b0bbbeb4",
   "metadata": {},
   "outputs": [
    {
     "data": {
      "text/plain": [
       "array([[3.1582403e-04, 2.8317710e-03, 3.5886184e-04, ..., 1.0604177e-03,\n",
       "        9.6163946e-01, 1.9981570e-03],\n",
       "       [2.3811398e-04, 6.1928626e-04, 3.5160317e-04, ..., 6.8623049e-04,\n",
       "        4.1400149e-04, 3.0466483e-04],\n",
       "       [1.4460781e-03, 4.9176969e-04, 2.6883291e-02, ..., 1.2549058e-02,\n",
       "        1.7845783e-03, 1.5454317e-03],\n",
       "       ...,\n",
       "       [8.1546261e-04, 7.5611111e-04, 5.1461351e-03, ..., 2.4001565e-02,\n",
       "        1.3309445e-02, 2.0846674e-02],\n",
       "       [6.1152258e-04, 5.2602948e-03, 2.4477963e-03, ..., 3.1246687e-03,\n",
       "        6.8248168e-02, 5.1304810e-03],\n",
       "       [1.0180919e-03, 6.4107915e-04, 9.1671765e-01, ..., 5.5221515e-03,\n",
       "        6.9401221e-04, 1.5452536e-03]], dtype=float32)"
      ]
     },
     "execution_count": 42,
     "metadata": {},
     "output_type": "execute_result"
    }
   ],
   "source": [
    "y_pred"
   ]
  },
  {
   "cell_type": "code",
   "execution_count": 43,
   "id": "e6dea7bf",
   "metadata": {},
   "outputs": [],
   "source": [
    "labels = np.argmax(y_pred,axis=1)"
   ]
  },
  {
   "cell_type": "code",
   "execution_count": 44,
   "id": "24879281",
   "metadata": {},
   "outputs": [],
   "source": [
    "test_df['Topic'] = list(labels)"
   ]
  },
  {
   "cell_type": "code",
   "execution_count": 45,
   "id": "64f928d3",
   "metadata": {},
   "outputs": [],
   "source": [
    "test_df.to_csv('T_New.csv')"
   ]
  },
  {
   "cell_type": "markdown",
   "id": "47d246ab",
   "metadata": {},
   "source": [
    "### LSTM"
   ]
  },
  {
   "cell_type": "code",
   "execution_count": null,
   "id": "021e12a4",
   "metadata": {},
   "outputs": [],
   "source": [
    "# The maximum number of words to be used. (most frequent)\n",
    "MAX_NB_WORDS = 50000\n",
    "# Max number of words in each complaint.\n",
    "MAX_SEQUENCE_LENGTH = 250\n",
    "# This is fixed.\n",
    "EMBEDDING_DIM = 100\n",
    "tokenizer = Tokenizer(num_words=MAX_NB_WORDS, filters='!\"#$%&()*+,-./:;<=>?@[\\]^_`{|}~', lower=True)\n",
    "tokenizer.fit_on_texts(df['Comment'].values)\n",
    "word_index = tokenizer.word_index\n",
    "print('Found %s unique tokens.' % len(word_index))"
   ]
  },
  {
   "cell_type": "code",
   "execution_count": null,
   "id": "3875dc50",
   "metadata": {},
   "outputs": [],
   "source": [
    "X = tokenizer.texts_to_sequences(df['Comment'].values)\n",
    "X = pad_sequences(X, maxlen=MAX_SEQUENCE_LENGTH)\n",
    "print('Shape of data tensor:', X.shape)"
   ]
  },
  {
   "cell_type": "code",
   "execution_count": null,
   "id": "cb219e5d",
   "metadata": {},
   "outputs": [],
   "source": [
    "Y = pd.get_dummies(df['Topic']).values\n",
    "print('Shape of label tensor:', Y.shape)"
   ]
  },
  {
   "cell_type": "code",
   "execution_count": null,
   "id": "7a2978c4",
   "metadata": {},
   "outputs": [],
   "source": [
    "model = Sequential()\n",
    "model.add(Embedding(MAX_NB_WORDS, EMBEDDING_DIM, input_length=X.shape[1]))\n",
    "model.add(SpatialDropout1D(0.2))\n",
    "model.add(LSTM(100, dropout=0.2, recurrent_dropout=0.2))\n",
    "model.add(Dense(40, activation='sigmoid'))\n",
    "model.compile(loss='categorical_crossentropy', optimizer='adam', metrics=['accuracy'])\n",
    "\n",
    "epochs = 5\n",
    "batch_size = 64\n",
    "from tensorflow.keras.callbacks import EarlyStopping\n",
    "history = model.fit(X_train, Y_train, epochs=epochs, batch_size=batch_size,validation_split=0.1,callbacks=[EarlyStopping(monitor='val_loss', patience=3, min_delta=0.0001)])"
   ]
  }
 ],
 "metadata": {
  "kernelspec": {
   "display_name": "Python 3",
   "language": "python",
   "name": "python3"
  },
  "language_info": {
   "codemirror_mode": {
    "name": "ipython",
    "version": 3
   },
   "file_extension": ".py",
   "mimetype": "text/x-python",
   "name": "python",
   "nbconvert_exporter": "python",
   "pygments_lexer": "ipython3",
   "version": "3.8.8"
  }
 },
 "nbformat": 4,
 "nbformat_minor": 5
}
